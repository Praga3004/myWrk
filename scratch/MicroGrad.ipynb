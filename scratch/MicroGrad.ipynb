{
 "cells": [
  {
   "cell_type": "code",
   "execution_count": 1,
   "metadata": {},
   "outputs": [
    {
     "name": "stdout",
     "output_type": "stream",
     "text": [
      "Requirement already satisfied: graphviz in c:\\python312\\lib\\site-packages (0.20.3)\n",
      "Note: you may need to restart the kernel to use updated packages.\n"
     ]
    }
   ],
   "source": [
    "import numpy as np\n",
    "import matplotlib.pyplot as plt\n",
    "%pip install graphviz\n",
    "from graphviz import Digraph"
   ]
  },
  {
   "cell_type": "code",
   "execution_count": 2,
   "metadata": {},
   "outputs": [],
   "source": [
    "def f(x):\n",
    "    return x**2-4*x+5"
   ]
  },
  {
   "cell_type": "code",
   "execution_count": 3,
   "metadata": {},
   "outputs": [
    {
     "data": {
      "text/plain": [
       "[<matplotlib.lines.Line2D at 0x22020056060>]"
      ]
     },
     "execution_count": 3,
     "metadata": {},
     "output_type": "execute_result"
    },
    {
     "data": {
      "image/png": "[encoded data removed]",
      "text/plain": [
       "<Figure size 640x480 with 1 Axes>"
      ]
     },
     "metadata": {},
     "output_type": "display_data"
    }
   ],
   "source": [
    "x=np.arange(-5,5,0.25)\n",
    "y=f(x)\n",
    "plt.plot(x,y)"
   ]
  },
  {
   "cell_type": "code",
   "execution_count": 4,
   "metadata": {},
   "outputs": [
    {
     "data": {
      "text/plain": [
       "2.1000000000000085"
      ]
     },
     "execution_count": 4,
     "metadata": {},
     "output_type": "execute_result"
    }
   ],
   "source": [
    "h=0.1\n",
    "y=f(3)\n",
    "y2=f(3+h)\n",
    "(y2-y)/h"
   ]
  },
  {
   "cell_type": "code",
   "execution_count": 5,
   "metadata": {},
   "outputs": [
    {
     "name": "stdout",
     "output_type": "stream",
     "text": [
      "4\n",
      "4.0009999999999994\n"
     ]
    },
    {
     "data": {
      "text/plain": [
       "0.9999999999994458"
      ]
     },
     "execution_count": 5,
     "metadata": {},
     "output_type": "execute_result"
    }
   ],
   "source": [
    "a=2\n",
    "b=-3\n",
    "c=10\n",
    "h=0.001\n",
    "def func(a,b,c):\n",
    " return a*b+c\n",
    "d= func(a,b,c)\n",
    "d\n",
    "d1=func(a,b,c+h)\n",
    "print(d)\n",
    "print(d1)\n",
    "(d1-d)/h"
   ]
  },
  {
   "cell_type": "code",
   "execution_count": 11,
   "metadata": {},
   "outputs": [
    {
     "data": {
      "text/plain": [
       "Value(data:-5)"
      ]
     },
     "execution_count": 11,
     "metadata": {},
     "output_type": "execute_result"
    }
   ],
   "source": [
    "class Value:\n",
    "    def __init__(self,data,children=(),op=''):\n",
    "        self.data=data\n",
    "        self._prev=set(children)\n",
    "        self.op=op\n",
    "\n",
    "    def __repr__(self):\n",
    "        return f\"Value(data:{self.data})\"\n",
    "    def __add__(self,other):\n",
    "        return Value(self.data+other.data,(self,other),'+')\n",
    "    def __sub__(self,other):\n",
    "        return Value(self.data-other.data,(self,other),'-')\n",
    "    def __mul__(self,other):\n",
    "        return Value(self.data*other.data,(self,other),'*')\n",
    "    \n",
    "a=Value(3)\n",
    "b=Value(-3)\n",
    "c=Value(4)\n",
    "d=a*b+c\n",
    "d"
   ]
  },
  {
   "cell_type": "code",
   "execution_count": 12,
   "metadata": {},
   "outputs": [],
   "source": [
    "#Visualization\n",
    "\n",
    "\n",
    "\n",
    "def trace(root):\n",
    "    nodes,edges=set(),set()\n",
    "\n",
    "    def build(v):\n",
    "        if v not in nodes:\n",
    "            nodes.add(v)\n",
    "            for c in v._prev:\n",
    "                edges.add((c,v))\n",
    "                build(c)\n",
    "    build(root)\n",
    "    return nodes,edges\n",
    "\n",
    "def draw(root):\n",
    "    dot=Digraph(format='svg',graph_attr={'rankdir':'LR'})\n",
    "    nodes,edges=trace(root)\n",
    "    for n in nodes:\n",
    "        uid=str(id(n))\n",
    "        dot.node(name=uid,label=f'data {n.data}',shape='record')\n",
    "        if n.op:\n",
    "            dot.node(name=uid+n.op,label=n.op)\n",
    "            dot.edge(uid+n.op,uid)\n",
    "    for n1,n2 in edges:\n",
    "        dot.edge(str(id(n1)),str(id(n2))+n2.op)\n",
    "\n",
    "    return dot\n",
    "\n",
    "\n",
    "\n",
    "\n"
   ]
  },
  {
   "cell_type": "code",
   "execution_count": 13,
   "metadata": {},
   "outputs": [
    {
     "data": {
      "image/svg+xml": [
       "<?xml version=\"1.0\" encoding=\"UTF-8\" standalone=\"no\"?>\n",
       "<!DOCTYPE svg PUBLIC \"-//W3C//DTD SVG 1.1//EN\"\n",
       " \"http://www.w3.org/Graphics/SVG/1.1/DTD/svg11.dtd\">\n",
       "<!-- Generated by graphviz version 11.0.0 (20240428.1522)\n",
       " -->\n",
       "<!-- Pages: 1 -->\n",
       "<svg width=\"423pt\" height=\"128pt\"\n",
       " viewBox=\"0.00 0.00 422.75 128.00\" xmlns=\"http://www.w3.org/2000/svg\" xmlns:xlink=\"http://www.w3.org/1999/xlink\">\n",
       "<g id=\"graph0\" class=\"graph\" transform=\"scale(1 1) rotate(0) translate(4 124)\">\n",
       "<polygon fill=\"white\" stroke=\"none\" points=\"-4,4 -4,-124 418.75,-124 418.75,4 -4,4\"/>\n",
       "<!-- 2336999850496 -->\n",
       "<g id=\"node1\" class=\"node\">\n",
       "<title>2336999850496</title>\n",
       "<polygon fill=\"none\" stroke=\"black\" points=\"0.12,-83.5 0.12,-119.5 54.12,-119.5 54.12,-83.5 0.12,-83.5\"/>\n",
       "<text text-anchor=\"middle\" x=\"27.12\" y=\"-96.2\" font-family=\"Times New Roman,serif\" font-size=\"14.00\">data 3</text>\n",
       "</g>\n",
       "<!-- 2336999216896* -->\n",
       "<g id=\"node6\" class=\"node\">\n",
       "<title>2336999216896*</title>\n",
       "<ellipse fill=\"none\" stroke=\"black\" cx=\"117.25\" cy=\"-73.5\" rx=\"27\" ry=\"18\"/>\n",
       "<text text-anchor=\"middle\" x=\"117.25\" y=\"-68.08\" font-family=\"Times New Roman,serif\" font-size=\"14.00\">*</text>\n",
       "</g>\n",
       "<!-- 2336999850496&#45;&gt;2336999216896* -->\n",
       "<g id=\"edge3\" class=\"edge\">\n",
       "<title>2336999850496&#45;&gt;2336999216896*</title>\n",
       "<path fill=\"none\" stroke=\"black\" d=\"M54.57,-93.1C62.98,-90.43 72.42,-87.43 81.33,-84.59\"/>\n",
       "<polygon fill=\"black\" stroke=\"black\" points=\"82.32,-87.95 90.79,-81.59 80.2,-81.28 82.32,-87.95\"/>\n",
       "</g>\n",
       "<!-- 2336999610928 -->\n",
       "<g id=\"node2\" class=\"node\">\n",
       "<title>2336999610928</title>\n",
       "<polygon fill=\"none\" stroke=\"black\" points=\"360.5,-27.5 360.5,-63.5 414.75,-63.5 414.75,-27.5 360.5,-27.5\"/>\n",
       "<text text-anchor=\"middle\" x=\"387.62\" y=\"-40.2\" font-family=\"Times New Roman,serif\" font-size=\"14.00\">data &#45;5</text>\n",
       "</g>\n",
       "<!-- 2336999610928+ -->\n",
       "<g id=\"node3\" class=\"node\">\n",
       "<title>2336999610928+</title>\n",
       "<ellipse fill=\"none\" stroke=\"black\" cx=\"297.5\" cy=\"-45.5\" rx=\"27\" ry=\"18\"/>\n",
       "<text text-anchor=\"middle\" x=\"297.5\" y=\"-40.08\" font-family=\"Times New Roman,serif\" font-size=\"14.00\">+</text>\n",
       "</g>\n",
       "<!-- 2336999610928+&#45;&gt;2336999610928 -->\n",
       "<g id=\"edge1\" class=\"edge\">\n",
       "<title>2336999610928+&#45;&gt;2336999610928</title>\n",
       "<path fill=\"none\" stroke=\"black\" d=\"M324.94,-45.5C332.43,-45.5 340.74,-45.5 348.77,-45.5\"/>\n",
       "<polygon fill=\"black\" stroke=\"black\" points=\"348.69,-49 358.69,-45.5 348.69,-42 348.69,-49\"/>\n",
       "</g>\n",
       "<!-- 2336999854192 -->\n",
       "<g id=\"node4\" class=\"node\">\n",
       "<title>2336999854192</title>\n",
       "<polygon fill=\"none\" stroke=\"black\" points=\"0,-28.5 0,-64.5 54.25,-64.5 54.25,-28.5 0,-28.5\"/>\n",
       "<text text-anchor=\"middle\" x=\"27.12\" y=\"-41.2\" font-family=\"Times New Roman,serif\" font-size=\"14.00\">data &#45;3</text>\n",
       "</g>\n",
       "<!-- 2336999854192&#45;&gt;2336999216896* -->\n",
       "<g id=\"edge4\" class=\"edge\">\n",
       "<title>2336999854192&#45;&gt;2336999216896*</title>\n",
       "<path fill=\"none\" stroke=\"black\" d=\"M54.57,-54.6C62.98,-57.18 72.42,-60.07 81.33,-62.8\"/>\n",
       "<polygon fill=\"black\" stroke=\"black\" points=\"80.2,-66.11 90.78,-65.7 82.25,-59.42 80.2,-66.11\"/>\n",
       "</g>\n",
       "<!-- 2336999216896 -->\n",
       "<g id=\"node5\" class=\"node\">\n",
       "<title>2336999216896</title>\n",
       "<polygon fill=\"none\" stroke=\"black\" points=\"180.25,-55.5 180.25,-91.5 234.5,-91.5 234.5,-55.5 180.25,-55.5\"/>\n",
       "<text text-anchor=\"middle\" x=\"207.38\" y=\"-68.2\" font-family=\"Times New Roman,serif\" font-size=\"14.00\">data &#45;9</text>\n",
       "</g>\n",
       "<!-- 2336999216896&#45;&gt;2336999610928+ -->\n",
       "<g id=\"edge5\" class=\"edge\">\n",
       "<title>2336999216896&#45;&gt;2336999610928+</title>\n",
       "<path fill=\"none\" stroke=\"black\" d=\"M234.82,-65.1C243.23,-62.43 252.67,-59.43 261.58,-56.59\"/>\n",
       "<polygon fill=\"black\" stroke=\"black\" points=\"262.57,-59.95 271.04,-53.59 260.45,-53.28 262.57,-59.95\"/>\n",
       "</g>\n",
       "<!-- 2336999216896*&#45;&gt;2336999216896 -->\n",
       "<g id=\"edge2\" class=\"edge\">\n",
       "<title>2336999216896*&#45;&gt;2336999216896</title>\n",
       "<path fill=\"none\" stroke=\"black\" d=\"M144.69,-73.5C152.18,-73.5 160.49,-73.5 168.52,-73.5\"/>\n",
       "<polygon fill=\"black\" stroke=\"black\" points=\"168.44,-77 178.44,-73.5 168.44,-70 168.44,-77\"/>\n",
       "</g>\n",
       "<!-- 2336999855440 -->\n",
       "<g id=\"node7\" class=\"node\">\n",
       "<title>2336999855440</title>\n",
       "<polygon fill=\"none\" stroke=\"black\" points=\"180.38,-0.5 180.38,-36.5 234.38,-36.5 234.38,-0.5 180.38,-0.5\"/>\n",
       "<text text-anchor=\"middle\" x=\"207.38\" y=\"-13.2\" font-family=\"Times New Roman,serif\" font-size=\"14.00\">data 4</text>\n",
       "</g>\n",
       "<!-- 2336999855440&#45;&gt;2336999610928+ -->\n",
       "<g id=\"edge6\" class=\"edge\">\n",
       "<title>2336999855440&#45;&gt;2336999610928+</title>\n",
       "<path fill=\"none\" stroke=\"black\" d=\"M234.82,-26.6C243.23,-29.18 252.67,-32.07 261.58,-34.8\"/>\n",
       "<polygon fill=\"black\" stroke=\"black\" points=\"260.45,-38.11 271.03,-37.7 262.5,-31.42 260.45,-38.11\"/>\n",
       "</g>\n",
       "</g>\n",
       "</svg>\n"
      ],
      "text/plain": [
       "<graphviz.graphs.Digraph at 0x22010dec1a0>"
      ]
     },
     "execution_count": 13,
     "metadata": {},
     "output_type": "execute_result"
    }
   ],
   "source": [
    "draw(d)"
   ]
  },
  {
   "cell_type": "code",
   "execution_count": null,
   "metadata": {},
   "outputs": [],
   "source": []
  }
 ],
 "metadata": {
  "kernelspec": {
   "display_name": "Python 3",
   "language": "python",
   "name": "python3"
  },
  "language_info": {
   "codemirror_mode": {
    "name": "ipython",
    "version": 3
   },
   "file_extension": ".py",
   "mimetype": "text/x-python",
   "name": "python",
   "nbconvert_exporter": "python",
   "pygments_lexer": "ipython3",
   "version": "3.12.3"
  }
 },
 "nbformat": 4,
 "nbformat_minor": 2
}
