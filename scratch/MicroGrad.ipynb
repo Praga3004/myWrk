{
 "cells": [
  {
   "cell_type": "code",
   "execution_count": 72,
   "metadata": {},
   "outputs": [
    {
     "name": "stdout",
     "output_type": "stream",
     "text": [
      "Requirement already satisfied: graphviz in c:\\python312\\lib\\site-packages (0.20.3)\n",
      "Note: you may need to restart the kernel to use updated packages.\n"
     ]
    }
   ],
   "source": [
    "import numpy as np\n",
    "import matplotlib.pyplot as plt\n",
    "%pip install graphviz\n",
    "from graphviz import Digraph\n",
    "import math"
   ]
  },
  {
   "cell_type": "code",
   "execution_count": 2,
   "metadata": {},
   "outputs": [],
   "source": [
    "def f(x):\n",
    "    return x**2-4*x+5"
   ]
  },
  {
   "cell_type": "code",
   "execution_count": 3,
   "metadata": {},
   "outputs": [
    {
     "data": {
      "text/plain": [
       "[<matplotlib.lines.Line2D at 0x22020056060>]"
      ]
     },
     "execution_count": 3,
     "metadata": {},
     "output_type": "execute_result"
    },
    {
     "data": {
      "image/png": "[encoded data removed]",
      "text/plain": [
       "<Figure size 640x480 with 1 Axes>"
      ]
     },
     "metadata": {},
     "output_type": "display_data"
    }
   ],
   "source": [
    "x=np.arange(-5,5,0.25)\n",
    "y=f(x)\n",
    "plt.plot(x,y)"
   ]
  },
  {
   "cell_type": "code",
   "execution_count": 4,
   "metadata": {},
   "outputs": [
    {
     "data": {
      "text/plain": [
       "2.1000000000000085"
      ]
     },
     "execution_count": 4,
     "metadata": {},
     "output_type": "execute_result"
    }
   ],
   "source": [
    "h=0.1\n",
    "y=f(3)\n",
    "y2=f(3+h)\n",
    "(y2-y)/h"
   ]
  },
  {
   "cell_type": "code",
   "execution_count": 5,
   "metadata": {},
   "outputs": [
    {
     "name": "stdout",
     "output_type": "stream",
     "text": [
      "4\n",
      "4.0009999999999994\n"
     ]
    },
    {
     "data": {
      "text/plain": [
       "0.9999999999994458"
      ]
     },
     "execution_count": 5,
     "metadata": {},
     "output_type": "execute_result"
    }
   ],
   "source": [
    "a=2\n",
    "b=-3\n",
    "c=10\n",
    "h=0.001\n",
    "def func(a,b,c):\n",
    " return a*b+c\n",
    "d= func(a,b,c)\n",
    "d\n",
    "d1=func(a,b,c+h)\n",
    "print(d)\n",
    "print(d1)\n",
    "(d1-d)/h"
   ]
  },
  {
   "cell_type": "code",
   "execution_count": 70,
   "metadata": {},
   "outputs": [],
   "source": [
    "#Visualization\n",
    "\n",
    "\n",
    "\n",
    "def trace(root):\n",
    "    nodes,edges=set(),set()\n",
    "\n",
    "    def build(v):\n",
    "        if v not in nodes:\n",
    "            nodes.add(v)\n",
    "            for c in v._prev:\n",
    "                edges.add((c,v))\n",
    "                build(c)\n",
    "    build(root)\n",
    "    return nodes,edges\n",
    "\n",
    "def draw(root):\n",
    "    dot=Digraph(format='svg',graph_attr={'rankdir':'LR'})\n",
    "    nodes,edges=trace(root)\n",
    "    for n in nodes:\n",
    "        uid=str(id(n))\n",
    "        dot.node(name=uid,label=f'{n.label} | data {n.data} | grad: {n.grad}',shape='record')\n",
    "        if n.op:\n",
    "            dot.node(name=uid+n.op,label=n.op)\n",
    "            dot.edge(uid+n.op,uid)\n",
    "    for n1,n2 in edges:\n",
    "        dot.edge(str(id(n1)),str(id(n2))+n2.op)\n",
    "\n",
    "    return dot\n",
    "\n",
    "\n",
    "\n",
    "\n"
   ]
  },
  {
   "cell_type": "code",
   "execution_count": 195,
   "metadata": {},
   "outputs": [],
   "source": [
    "class Value:\n",
    "    def __init__(self,data,children=(),op='',label=''):\n",
    "        self.data=data\n",
    "        self._prev=set(children)\n",
    "        self.op=op\n",
    "        self.back= lambda :None\n",
    "        self.label=label\n",
    "        self.grad=0.0\n",
    "\n",
    "    def __repr__(self):\n",
    "        return f\"Value(data:{self.data})\"\n",
    "    \n",
    "\n",
    "\n",
    "    def __add__(self,other):\n",
    "        other= other if isinstance(other,Value) else Value(other)\n",
    "        out=Value(self.data+other.data,(self,other),'+')\n",
    "        def back():\n",
    "            self.grad+=1.0*out.grad\n",
    "            other.grad+=1.0*out.grad\n",
    "        out.back=back\n",
    "        return out\n",
    "    \n",
    "\n",
    "\n",
    "    def __sub__(self,other):\n",
    "        other= other if isinstance(other,Value) else Value(other)\n",
    "        out= Value(self.data-other.data,(self,other),'-')\n",
    "        return out\n",
    "    \n",
    "    def __mul__(self,other):\n",
    "        other= other if isinstance(other,Value) else Value(other)\n",
    "     \n",
    "        out= Value(self.data*other.data,(self,other),'*')\n",
    "        def back():\n",
    "            self.grad+=other.data*out.grad\n",
    "            other.grad+=self.data*out.grad\n",
    "        out.back=back\n",
    "        return out\n",
    "    \n",
    "\n",
    "\n",
    "    def __rmul__(self,other):\n",
    "        return self*other\n",
    "    \n",
    "\n",
    "    def exp(self):\n",
    "        x=self.data\n",
    "        out=Value(math.exp(x),(self,),'exp')\n",
    "        def back():\n",
    "            self.grad+=out.data*out.grad\n",
    "        out.back=back\n",
    "\n",
    "        \n",
    "    def tanh(self):\n",
    "        n=self.data\n",
    "        tanh=((math.exp(2*n)-1)/(math.exp(2*n)+1))\n",
    "        out=Value(tanh,(self,),'tanh')\n",
    "        def back():\n",
    "            self.grad+=(1-(tanh**2))*out.grad\n",
    "\n",
    "       \n",
    "        out.back=back\n",
    "        return out\n",
    "\n",
    "        \n",
    "\n",
    "  "
   ]
  },
  {
   "cell_type": "code",
   "execution_count": 196,
   "metadata": {},
   "outputs": [
    {
     "data": {
      "text/plain": [
       "0.0"
      ]
     },
     "execution_count": 196,
     "metadata": {},
     "output_type": "execute_result"
    }
   ],
   "source": [
    "x1=Value(2.0,label='x1')\n",
    "x2=Value(0.0,label='x2')\n",
    "w1=Value(-3.0,label='w1')\n",
    "w2=Value(1.0,label='w1')\n",
    "b=Value(6.8888,label='b')\n",
    "x1w1=x1*w1\n",
    "x1w1.label='x1w1'\n",
    "x2w2=x2*w2\n",
    "x2w2.label='x2w2'\n",
    "x1w1x2w2=x1w1+x2w2\n",
    "x1w1x2w2.label=\"x1w1+x2w2\"\n",
    "n=x1w1x2w2+b\n",
    "n.label='n'\n",
    "o=n.tanh()\n",
    "o.label='o'\n",
    "o.grad\n"
   ]
  },
  {
   "cell_type": "code",
   "execution_count": 197,
   "metadata": {},
   "outputs": [
    {
     "data": {
      "text/plain": [
       "Value(data:0.0)"
      ]
     },
     "execution_count": 197,
     "metadata": {},
     "output_type": "execute_result"
    }
   ],
   "source": [
    "4*x2"
   ]
  },
  {
   "cell_type": "code",
   "execution_count": 198,
   "metadata": {},
   "outputs": [],
   "source": [
    "# #Manual BackPropagation!!!!\n",
    "o.grad=1.0\n",
    "# n.grad=1-(o.data**2)\n",
    "# b.grad=n.grad\n",
    "# x1w1x2w2.grad=n.grad\n",
    "# x1w1.grad=x1w1x2w2.grad\n",
    "# x2w2.grad=x1w1x2w2.grad\n",
    "# x1.grad=x1w1.grad*w1.data\n",
    "# x2.grad=x2w2.grad*w2.data\n",
    "# w1.grad=x1w1.grad*x1.data\n",
    "# w2.grad=x2w2.grad*x2.data"
   ]
  },
  {
   "cell_type": "code",
   "execution_count": 199,
   "metadata": {},
   "outputs": [
    {
     "data": {
      "image/svg+xml": [
       "<?xml version=\"1.0\" encoding=\"UTF-8\" standalone=\"no\"?>\n",
       "<!DOCTYPE svg PUBLIC \"-//W3C//DTD SVG 1.1//EN\"\n",
       " \"http://www.w3.org/Graphics/SVG/1.1/DTD/svg11.dtd\">\n",
       "<!-- Generated by graphviz version 11.0.0 (20240428.1522)\n",
       " -->\n",
       "<!-- Pages: 1 -->\n",
       "<svg width=\"1042pt\" height=\"350pt\"\n",
       " viewBox=\"0.00 0.00 1042.00 350.25\" xmlns=\"http://www.w3.org/2000/svg\" xmlns:xlink=\"http://www.w3.org/1999/xlink\">\n",
       "<g id=\"graph0\" class=\"graph\" transform=\"scale(1 1) rotate(0) translate(4 346.25)\">\n",
       "<polygon fill=\"white\" stroke=\"none\" points=\"-4,4 -4,-346.25 1038,-346.25 1038,4 -4,4\"/>\n",
       "<!-- 2337035912736 -->\n",
       "<g id=\"node1\" class=\"node\">\n",
       "<title>2337035912736</title>\n",
       "<polygon fill=\"none\" stroke=\"black\" points=\"0,-270.5 0,-341.75 64.75,-341.75 64.75,-270.5 0,-270.5\"/>\n",
       "<text text-anchor=\"middle\" x=\"32.38\" y=\"-324.45\" font-family=\"Times New Roman,serif\" font-size=\"14.00\">x2</text>\n",
       "<polyline fill=\"none\" stroke=\"black\" points=\"0,-318 64.75,-318\"/>\n",
       "<text text-anchor=\"middle\" x=\"32.38\" y=\"-300.7\" font-family=\"Times New Roman,serif\" font-size=\"14.00\">data 0.0</text>\n",
       "<polyline fill=\"none\" stroke=\"black\" points=\"0,-294.25 64.75,-294.25\"/>\n",
       "<text text-anchor=\"middle\" x=\"32.38\" y=\"-276.95\" font-family=\"Times New Roman,serif\" font-size=\"14.00\">grad: 0.0</text>\n",
       "</g>\n",
       "<!-- 2337035914992* -->\n",
       "<g id=\"node11\" class=\"node\">\n",
       "<title>2337035914992*</title>\n",
       "<ellipse fill=\"none\" stroke=\"black\" cx=\"127.75\" cy=\"-216.12\" rx=\"27\" ry=\"18\"/>\n",
       "<text text-anchor=\"middle\" x=\"127.75\" y=\"-210.7\" font-family=\"Times New Roman,serif\" font-size=\"14.00\">*</text>\n",
       "</g>\n",
       "<!-- 2337035912736&#45;&gt;2337035914992* -->\n",
       "<g id=\"edge9\" class=\"edge\">\n",
       "<title>2337035912736&#45;&gt;2337035914992*</title>\n",
       "<path fill=\"none\" stroke=\"black\" d=\"M65.25,-275.4C77.71,-263.39 91.74,-249.87 103.25,-238.77\"/>\n",
       "<polygon fill=\"black\" stroke=\"black\" points=\"105.64,-241.34 110.41,-231.88 100.78,-236.3 105.64,-241.34\"/>\n",
       "</g>\n",
       "<!-- 2337035923488 -->\n",
       "<g id=\"node2\" class=\"node\">\n",
       "<title>2337035923488</title>\n",
       "<polygon fill=\"none\" stroke=\"black\" points=\"383.38,-45.5 383.38,-116.75 463.88,-116.75 463.88,-45.5 383.38,-45.5\"/>\n",
       "<text text-anchor=\"middle\" x=\"423.62\" y=\"-99.45\" font-family=\"Times New Roman,serif\" font-size=\"14.00\">b</text>\n",
       "<polyline fill=\"none\" stroke=\"black\" points=\"383.38,-93 463.88,-93\"/>\n",
       "<text text-anchor=\"middle\" x=\"423.62\" y=\"-75.7\" font-family=\"Times New Roman,serif\" font-size=\"14.00\">data 6.8888</text>\n",
       "<polyline fill=\"none\" stroke=\"black\" points=\"383.38,-69.25 463.88,-69.25\"/>\n",
       "<text text-anchor=\"middle\" x=\"423.62\" y=\"-51.95\" font-family=\"Times New Roman,serif\" font-size=\"14.00\">grad: 0.0</text>\n",
       "</g>\n",
       "<!-- 2337035921520+ -->\n",
       "<g id=\"node6\" class=\"node\">\n",
       "<title>2337035921520+</title>\n",
       "<ellipse fill=\"none\" stroke=\"black\" cx=\"528.75\" cy=\"-126.12\" rx=\"27\" ry=\"18\"/>\n",
       "<text text-anchor=\"middle\" x=\"528.75\" y=\"-120.7\" font-family=\"Times New Roman,serif\" font-size=\"14.00\">+</text>\n",
       "</g>\n",
       "<!-- 2337035923488&#45;&gt;2337035921520+ -->\n",
       "<g id=\"edge10\" class=\"edge\">\n",
       "<title>2337035923488&#45;&gt;2337035921520+</title>\n",
       "<path fill=\"none\" stroke=\"black\" d=\"M464.2,-98.39C474.35,-102.82 485.16,-107.54 494.93,-111.8\"/>\n",
       "<polygon fill=\"black\" stroke=\"black\" points=\"493.48,-114.99 504.04,-115.78 496.28,-108.57 493.48,-114.99\"/>\n",
       "</g>\n",
       "<!-- 2337035926080 -->\n",
       "<g id=\"node3\" class=\"node\">\n",
       "<title>2337035926080</title>\n",
       "<polygon fill=\"none\" stroke=\"black\" points=\"190.75,-90.5 190.75,-161.75 255.5,-161.75 255.5,-90.5 190.75,-90.5\"/>\n",
       "<text text-anchor=\"middle\" x=\"223.12\" y=\"-144.45\" font-family=\"Times New Roman,serif\" font-size=\"14.00\">x1w1</text>\n",
       "<polyline fill=\"none\" stroke=\"black\" points=\"190.75,-138 255.5,-138\"/>\n",
       "<text text-anchor=\"middle\" x=\"223.12\" y=\"-120.7\" font-family=\"Times New Roman,serif\" font-size=\"14.00\">data &#45;6.0</text>\n",
       "<polyline fill=\"none\" stroke=\"black\" points=\"190.75,-114.25 255.5,-114.25\"/>\n",
       "<text text-anchor=\"middle\" x=\"223.12\" y=\"-96.95\" font-family=\"Times New Roman,serif\" font-size=\"14.00\">grad: 0.0</text>\n",
       "</g>\n",
       "<!-- 2337035925264+ -->\n",
       "<g id=\"node13\" class=\"node\">\n",
       "<title>2337035925264+</title>\n",
       "<ellipse fill=\"none\" stroke=\"black\" cx=\"318.5\" cy=\"-171.12\" rx=\"27\" ry=\"18\"/>\n",
       "<text text-anchor=\"middle\" x=\"318.5\" y=\"-165.7\" font-family=\"Times New Roman,serif\" font-size=\"14.00\">+</text>\n",
       "</g>\n",
       "<!-- 2337035926080&#45;&gt;2337035925264+ -->\n",
       "<g id=\"edge11\" class=\"edge\">\n",
       "<title>2337035926080&#45;&gt;2337035925264+</title>\n",
       "<path fill=\"none\" stroke=\"black\" d=\"M256,-141.49C265.59,-146.11 276.12,-151.18 285.71,-155.81\"/>\n",
       "<polygon fill=\"black\" stroke=\"black\" points=\"284.15,-158.94 294.68,-160.13 287.19,-152.63 284.15,-158.94\"/>\n",
       "</g>\n",
       "<!-- 2337035926080* -->\n",
       "<g id=\"node4\" class=\"node\">\n",
       "<title>2337035926080*</title>\n",
       "<ellipse fill=\"none\" stroke=\"black\" cx=\"127.75\" cy=\"-126.12\" rx=\"27\" ry=\"18\"/>\n",
       "<text text-anchor=\"middle\" x=\"127.75\" y=\"-120.7\" font-family=\"Times New Roman,serif\" font-size=\"14.00\">*</text>\n",
       "</g>\n",
       "<!-- 2337035926080*&#45;&gt;2337035926080 -->\n",
       "<g id=\"edge1\" class=\"edge\">\n",
       "<title>2337035926080*&#45;&gt;2337035926080</title>\n",
       "<path fill=\"none\" stroke=\"black\" d=\"M154.76,-126.12C162.24,-126.12 170.61,-126.12 178.84,-126.12\"/>\n",
       "<polygon fill=\"black\" stroke=\"black\" points=\"178.76,-129.63 188.76,-126.13 178.76,-122.63 178.76,-129.63\"/>\n",
       "</g>\n",
       "<!-- 2337035921520 -->\n",
       "<g id=\"node5\" class=\"node\">\n",
       "<title>2337035921520</title>\n",
       "<polygon fill=\"none\" stroke=\"black\" points=\"591.75,-90.5 591.75,-161.75 753.25,-161.75 753.25,-90.5 591.75,-90.5\"/>\n",
       "<text text-anchor=\"middle\" x=\"672.5\" y=\"-144.45\" font-family=\"Times New Roman,serif\" font-size=\"14.00\">n</text>\n",
       "<polyline fill=\"none\" stroke=\"black\" points=\"591.75,-138 753.25,-138\"/>\n",
       "<text text-anchor=\"middle\" x=\"672.5\" y=\"-120.7\" font-family=\"Times New Roman,serif\" font-size=\"14.00\">data 0.8887999999999998</text>\n",
       "<polyline fill=\"none\" stroke=\"black\" points=\"591.75,-114.25 753.25,-114.25\"/>\n",
       "<text text-anchor=\"middle\" x=\"672.5\" y=\"-96.95\" font-family=\"Times New Roman,serif\" font-size=\"14.00\">grad: 0.0</text>\n",
       "</g>\n",
       "<!-- 2337000434400tanh -->\n",
       "<g id=\"node9\" class=\"node\">\n",
       "<title>2337000434400tanh</title>\n",
       "<ellipse fill=\"none\" stroke=\"black\" cx=\"816.25\" cy=\"-126.12\" rx=\"27\" ry=\"18\"/>\n",
       "<text text-anchor=\"middle\" x=\"816.25\" y=\"-120.7\" font-family=\"Times New Roman,serif\" font-size=\"14.00\">tanh</text>\n",
       "</g>\n",
       "<!-- 2337035921520&#45;&gt;2337000434400tanh -->\n",
       "<g id=\"edge12\" class=\"edge\">\n",
       "<title>2337035921520&#45;&gt;2337000434400tanh</title>\n",
       "<path fill=\"none\" stroke=\"black\" d=\"M753.49,-126.12C761.9,-126.12 770.13,-126.12 777.7,-126.12\"/>\n",
       "<polygon fill=\"black\" stroke=\"black\" points=\"777.48,-129.63 787.48,-126.13 777.48,-122.63 777.48,-129.63\"/>\n",
       "</g>\n",
       "<!-- 2337035921520+&#45;&gt;2337035921520 -->\n",
       "<g id=\"edge2\" class=\"edge\">\n",
       "<title>2337035921520+&#45;&gt;2337035921520</title>\n",
       "<path fill=\"none\" stroke=\"black\" d=\"M556.08,-126.12C563.21,-126.12 571.34,-126.12 579.92,-126.12\"/>\n",
       "<polygon fill=\"black\" stroke=\"black\" points=\"579.89,-129.63 589.89,-126.13 579.89,-122.63 579.89,-129.63\"/>\n",
       "</g>\n",
       "<!-- 2337035911344 -->\n",
       "<g id=\"node7\" class=\"node\">\n",
       "<title>2337035911344</title>\n",
       "<polygon fill=\"none\" stroke=\"black\" points=\"0,-90.5 0,-161.75 64.75,-161.75 64.75,-90.5 0,-90.5\"/>\n",
       "<text text-anchor=\"middle\" x=\"32.38\" y=\"-144.45\" font-family=\"Times New Roman,serif\" font-size=\"14.00\">x1</text>\n",
       "<polyline fill=\"none\" stroke=\"black\" points=\"0,-138 64.75,-138\"/>\n",
       "<text text-anchor=\"middle\" x=\"32.38\" y=\"-120.7\" font-family=\"Times New Roman,serif\" font-size=\"14.00\">data 2.0</text>\n",
       "<polyline fill=\"none\" stroke=\"black\" points=\"0,-114.25 64.75,-114.25\"/>\n",
       "<text text-anchor=\"middle\" x=\"32.38\" y=\"-96.95\" font-family=\"Times New Roman,serif\" font-size=\"14.00\">grad: 0.0</text>\n",
       "</g>\n",
       "<!-- 2337035911344&#45;&gt;2337035926080* -->\n",
       "<g id=\"edge14\" class=\"edge\">\n",
       "<title>2337035911344&#45;&gt;2337035926080*</title>\n",
       "<path fill=\"none\" stroke=\"black\" d=\"M65.25,-126.12C72.83,-126.12 80.99,-126.12 88.81,-126.12\"/>\n",
       "<polygon fill=\"black\" stroke=\"black\" points=\"88.78,-129.63 98.78,-126.13 88.78,-122.63 88.78,-129.63\"/>\n",
       "</g>\n",
       "<!-- 2337000434400 -->\n",
       "<g id=\"node8\" class=\"node\">\n",
       "<title>2337000434400</title>\n",
       "<polygon fill=\"none\" stroke=\"black\" points=\"879.25,-90.5 879.25,-161.75 1034,-161.75 1034,-90.5 879.25,-90.5\"/>\n",
       "<text text-anchor=\"middle\" x=\"956.62\" y=\"-144.45\" font-family=\"Times New Roman,serif\" font-size=\"14.00\">o</text>\n",
       "<polyline fill=\"none\" stroke=\"black\" points=\"879.25,-138 1034,-138\"/>\n",
       "<text text-anchor=\"middle\" x=\"956.62\" y=\"-120.7\" font-family=\"Times New Roman,serif\" font-size=\"14.00\">data 0.710800522947621</text>\n",
       "<polyline fill=\"none\" stroke=\"black\" points=\"879.25,-114.25 1034,-114.25\"/>\n",
       "<text text-anchor=\"middle\" x=\"956.62\" y=\"-96.95\" font-family=\"Times New Roman,serif\" font-size=\"14.00\">grad: 1.0</text>\n",
       "</g>\n",
       "<!-- 2337000434400tanh&#45;&gt;2337000434400 -->\n",
       "<g id=\"edge3\" class=\"edge\">\n",
       "<title>2337000434400tanh&#45;&gt;2337000434400</title>\n",
       "<path fill=\"none\" stroke=\"black\" d=\"M843.6,-126.12C850.75,-126.12 858.89,-126.12 867.46,-126.12\"/>\n",
       "<polygon fill=\"black\" stroke=\"black\" points=\"867.4,-129.63 877.4,-126.13 867.4,-122.63 867.4,-129.63\"/>\n",
       "</g>\n",
       "<!-- 2337035914992 -->\n",
       "<g id=\"node10\" class=\"node\">\n",
       "<title>2337035914992</title>\n",
       "<polygon fill=\"none\" stroke=\"black\" points=\"190.75,-180.5 190.75,-251.75 255.5,-251.75 255.5,-180.5 190.75,-180.5\"/>\n",
       "<text text-anchor=\"middle\" x=\"223.12\" y=\"-234.45\" font-family=\"Times New Roman,serif\" font-size=\"14.00\">x2w2</text>\n",
       "<polyline fill=\"none\" stroke=\"black\" points=\"190.75,-228 255.5,-228\"/>\n",
       "<text text-anchor=\"middle\" x=\"223.12\" y=\"-210.7\" font-family=\"Times New Roman,serif\" font-size=\"14.00\">data 0.0</text>\n",
       "<polyline fill=\"none\" stroke=\"black\" points=\"190.75,-204.25 255.5,-204.25\"/>\n",
       "<text text-anchor=\"middle\" x=\"223.12\" y=\"-186.95\" font-family=\"Times New Roman,serif\" font-size=\"14.00\">grad: 0.0</text>\n",
       "</g>\n",
       "<!-- 2337035914992&#45;&gt;2337035925264+ -->\n",
       "<g id=\"edge13\" class=\"edge\">\n",
       "<title>2337035914992&#45;&gt;2337035925264+</title>\n",
       "<path fill=\"none\" stroke=\"black\" d=\"M256,-200.76C265.59,-196.14 276.12,-191.07 285.71,-186.44\"/>\n",
       "<polygon fill=\"black\" stroke=\"black\" points=\"287.19,-189.62 294.68,-182.12 284.15,-183.31 287.19,-189.62\"/>\n",
       "</g>\n",
       "<!-- 2337035914992*&#45;&gt;2337035914992 -->\n",
       "<g id=\"edge4\" class=\"edge\">\n",
       "<title>2337035914992*&#45;&gt;2337035914992</title>\n",
       "<path fill=\"none\" stroke=\"black\" d=\"M154.76,-216.12C162.24,-216.12 170.61,-216.12 178.84,-216.12\"/>\n",
       "<polygon fill=\"black\" stroke=\"black\" points=\"178.76,-219.63 188.76,-216.13 178.76,-212.63 178.76,-219.63\"/>\n",
       "</g>\n",
       "<!-- 2337035925264 -->\n",
       "<g id=\"node12\" class=\"node\">\n",
       "<title>2337035925264</title>\n",
       "<polygon fill=\"none\" stroke=\"black\" points=\"381.5,-135.5 381.5,-206.75 465.75,-206.75 465.75,-135.5 381.5,-135.5\"/>\n",
       "<text text-anchor=\"middle\" x=\"423.62\" y=\"-189.45\" font-family=\"Times New Roman,serif\" font-size=\"14.00\">x1w1+x2w2</text>\n",
       "<polyline fill=\"none\" stroke=\"black\" points=\"381.5,-183 465.75,-183\"/>\n",
       "<text text-anchor=\"middle\" x=\"423.62\" y=\"-165.7\" font-family=\"Times New Roman,serif\" font-size=\"14.00\">data &#45;6.0</text>\n",
       "<polyline fill=\"none\" stroke=\"black\" points=\"381.5,-159.25 465.75,-159.25\"/>\n",
       "<text text-anchor=\"middle\" x=\"423.62\" y=\"-141.95\" font-family=\"Times New Roman,serif\" font-size=\"14.00\">grad: 0.0</text>\n",
       "</g>\n",
       "<!-- 2337035925264&#45;&gt;2337035921520+ -->\n",
       "<g id=\"edge8\" class=\"edge\">\n",
       "<title>2337035925264&#45;&gt;2337035921520+</title>\n",
       "<path fill=\"none\" stroke=\"black\" d=\"M465.98,-153.08C475.72,-148.83 485.98,-144.35 495.27,-140.3\"/>\n",
       "<polygon fill=\"black\" stroke=\"black\" points=\"496.49,-143.58 504.26,-136.38 493.69,-137.17 496.49,-143.58\"/>\n",
       "</g>\n",
       "<!-- 2337035925264+&#45;&gt;2337035925264 -->\n",
       "<g id=\"edge5\" class=\"edge\">\n",
       "<title>2337035925264+&#45;&gt;2337035925264</title>\n",
       "<path fill=\"none\" stroke=\"black\" d=\"M345.79,-171.12C353.17,-171.12 361.48,-171.12 369.82,-171.12\"/>\n",
       "<polygon fill=\"black\" stroke=\"black\" points=\"369.64,-174.63 379.64,-171.13 369.64,-167.63 369.64,-174.63\"/>\n",
       "</g>\n",
       "<!-- 2337035923872 -->\n",
       "<g id=\"node14\" class=\"node\">\n",
       "<title>2337035923872</title>\n",
       "<polygon fill=\"none\" stroke=\"black\" points=\"0,-0.5 0,-71.75 64.75,-71.75 64.75,-0.5 0,-0.5\"/>\n",
       "<text text-anchor=\"middle\" x=\"32.38\" y=\"-54.45\" font-family=\"Times New Roman,serif\" font-size=\"14.00\">w1</text>\n",
       "<polyline fill=\"none\" stroke=\"black\" points=\"0,-48 64.75,-48\"/>\n",
       "<text text-anchor=\"middle\" x=\"32.38\" y=\"-30.7\" font-family=\"Times New Roman,serif\" font-size=\"14.00\">data &#45;3.0</text>\n",
       "<polyline fill=\"none\" stroke=\"black\" points=\"0,-24.25 64.75,-24.25\"/>\n",
       "<text text-anchor=\"middle\" x=\"32.38\" y=\"-6.95\" font-family=\"Times New Roman,serif\" font-size=\"14.00\">grad: 0.0</text>\n",
       "</g>\n",
       "<!-- 2337035923872&#45;&gt;2337035926080* -->\n",
       "<g id=\"edge7\" class=\"edge\">\n",
       "<title>2337035923872&#45;&gt;2337035926080*</title>\n",
       "<path fill=\"none\" stroke=\"black\" d=\"M65.25,-66.85C77.71,-78.86 91.74,-92.38 103.25,-103.48\"/>\n",
       "<polygon fill=\"black\" stroke=\"black\" points=\"100.78,-105.95 110.41,-110.37 105.64,-100.91 100.78,-105.95\"/>\n",
       "</g>\n",
       "<!-- 2337035921376 -->\n",
       "<g id=\"node15\" class=\"node\">\n",
       "<title>2337035921376</title>\n",
       "<polygon fill=\"none\" stroke=\"black\" points=\"0,-180.5 0,-251.75 64.75,-251.75 64.75,-180.5 0,-180.5\"/>\n",
       "<text text-anchor=\"middle\" x=\"32.38\" y=\"-234.45\" font-family=\"Times New Roman,serif\" font-size=\"14.00\">w1</text>\n",
       "<polyline fill=\"none\" stroke=\"black\" points=\"0,-228 64.75,-228\"/>\n",
       "<text text-anchor=\"middle\" x=\"32.38\" y=\"-210.7\" font-family=\"Times New Roman,serif\" font-size=\"14.00\">data 1.0</text>\n",
       "<polyline fill=\"none\" stroke=\"black\" points=\"0,-204.25 64.75,-204.25\"/>\n",
       "<text text-anchor=\"middle\" x=\"32.38\" y=\"-186.95\" font-family=\"Times New Roman,serif\" font-size=\"14.00\">grad: 0.0</text>\n",
       "</g>\n",
       "<!-- 2337035921376&#45;&gt;2337035914992* -->\n",
       "<g id=\"edge6\" class=\"edge\">\n",
       "<title>2337035921376&#45;&gt;2337035914992*</title>\n",
       "<path fill=\"none\" stroke=\"black\" d=\"M65.25,-216.12C72.83,-216.12 80.99,-216.12 88.81,-216.12\"/>\n",
       "<polygon fill=\"black\" stroke=\"black\" points=\"88.78,-219.63 98.78,-216.13 88.78,-212.63 88.78,-219.63\"/>\n",
       "</g>\n",
       "</g>\n",
       "</svg>\n"
      ],
      "text/plain": [
       "<graphviz.graphs.Digraph at 0x22022321970>"
      ]
     },
     "execution_count": 199,
     "metadata": {},
     "output_type": "execute_result"
    }
   ],
   "source": [
    "draw(o)"
   ]
  },
  {
   "cell_type": "code",
   "execution_count": null,
   "metadata": {},
   "outputs": [],
   "source": []
  },
  {
   "cell_type": "code",
   "execution_count": null,
   "metadata": {},
   "outputs": [],
   "source": []
  }
 ],
 "metadata": {
  "kernelspec": {
   "display_name": "Python 3",
   "language": "python",
   "name": "python3"
  },
  "language_info": {
   "codemirror_mode": {
    "name": "ipython",
    "version": 3
   },
   "file_extension": ".py",
   "mimetype": "text/x-python",
   "name": "python",
   "nbconvert_exporter": "python",
   "pygments_lexer": "ipython3",
   "version": "3.12.3"
  }
 },
 "nbformat": 4,
 "nbformat_minor": 2
}
